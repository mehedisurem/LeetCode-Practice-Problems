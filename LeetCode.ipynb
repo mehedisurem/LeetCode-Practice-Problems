{
  "nbformat": 4,
  "nbformat_minor": 0,
  "metadata": {
    "colab": {
      "provenance": [],
      "authorship_tag": "ABX9TyM6Vait1rU4+K7rXI3Rg49C",
      "include_colab_link": true
    },
    "kernelspec": {
      "name": "python3",
      "display_name": "Python 3"
    },
    "language_info": {
      "name": "python"
    }
  },
  "cells": [
    {
      "cell_type": "markdown",
      "metadata": {
        "id": "view-in-github",
        "colab_type": "text"
      },
      "source": [
        "<a href=\"https://colab.research.google.com/github/mehedisurem/LeetCode-Practice-Problems/blob/main/LeetCode.ipynb\" target=\"_parent\"><img src=\"https://colab.research.google.com/assets/colab-badge.svg\" alt=\"Open In Colab\"/></a>"
      ]
    },
    {
      "cell_type": "markdown",
      "source": [
        "  # *1.Two Sum*\n",
        "Given an array of integers nums and an integer target, return indices of the two numbers such that they add up to target.\n",
        "\n",
        "You may assume that each input would have exactly one solution, and you may not use the same element twice.\n",
        "\n",
        "You can return the answer in any order.\n",
        "\n",
        "\n",
        "\n",
        "Example 1:\n",
        "\n",
        "Input: nums = [2,7,11,15], target = 9\n",
        "Output: [0,1]\n",
        "Explanation: Because nums[0] + nums[1] == 9, we return [0, 1].\n",
        "Example 2:\n",
        "\n",
        "Input: nums = [3,2,4], target = 6\n",
        "Output: [1,2]\n",
        "Example 3:\n",
        "\n",
        "Input: nums = [3,3], target = 6\n",
        "Output: [0,1]"
      ],
      "metadata": {
        "id": "IdV7iYs5Ua9C"
      }
    },
    {
      "cell_type": "code",
      "execution_count": null,
      "metadata": {
        "colab": {
          "base_uri": "https://localhost:8080/"
        },
        "id": "SFbSeDocUXN4",
        "outputId": "2c9dca11-3b62-450f-8116-5ea093f31652"
      },
      "outputs": [
        {
          "output_type": "stream",
          "name": "stdout",
          "text": [
            "Overwriting TwoSum.cpp\n"
          ]
        }
      ],
      "source": [
        "%%writefile TwoSum.cpp\n",
        "#include <iostream>\n",
        "#include <vector>\n",
        "\n",
        "using namespace std;\n",
        "\n",
        "class Solution {\n",
        "public:\n",
        "    vector<int> twoSum(vector<int>& nums, int target) {\n",
        "        for (int i = 0; i < nums.size(); i++) {\n",
        "            for (int j = 0; j < nums.size() && i != j; j++) {\n",
        "                if (nums[i] + nums[j] == target) {\n",
        "                    vector<int> index(2);\n",
        "                    index[0] = i;\n",
        "                    index[1] = j;\n",
        "                    return index;\n",
        "                }\n",
        "            }\n",
        "        }\n",
        "        return vector<int>();\n",
        "    }\n",
        "};\n",
        "\n",
        "int main() {\n",
        "    vector<int> nums = {2, 7, 11, 15};\n",
        "    int target = 9;\n",
        "\n",
        "    Solution solution;\n",
        "    vector<int> result = solution.twoSum(nums, target);\n",
        "\n",
        "    if (result.size() == 2) {\n",
        "        cout << \"Indices: \" << result[0] << \", \" << result[1] << endl;\n",
        "    } else {\n",
        "        cout << \"No two elements sum up to the target.\" << endl;\n",
        "    }\n",
        "\n",
        "    return 0;\n",
        "}\n"
      ]
    },
    {
      "cell_type": "code",
      "source": [
        "! g++ TwoSum.cpp -o testrun"
      ],
      "metadata": {
        "id": "7D7ar5_yUp7S"
      },
      "execution_count": null,
      "outputs": []
    },
    {
      "cell_type": "code",
      "source": [
        "! ./testrun"
      ],
      "metadata": {
        "colab": {
          "base_uri": "https://localhost:8080/"
        },
        "id": "Kklx_iBaU1EQ",
        "outputId": "cb68c152-e997-4acc-9df9-e19d32df85ca"
      },
      "execution_count": null,
      "outputs": [
        {
          "output_type": "stream",
          "name": "stdout",
          "text": [
            "Indices: 1, 0\n"
          ]
        }
      ]
    },
    {
      "cell_type": "markdown",
      "source": [
        "# *744. Find Smallest Letter Greater Than Target*\n",
        "You are given an array of characters letters that is sorted in non-decreasing order, and a character target. There are at least two different characters in letters.\n",
        "\n",
        "Return the smallest character in letters that is lexicographically greater than target. If such a character does not exist, return the first character in letters.\n",
        "\n",
        "\n",
        "Example 1:\n",
        "\n",
        "Input: letters = [\"c\",\"f\",\"j\"], target = \"a\"\n",
        "Output: \"c\"\n",
        "Explanation: The smallest character that is lexicographically greater than 'a' in letters is 'c'.\n",
        "Example 2:\n",
        "\n",
        "Input: letters = [\"c\",\"f\",\"j\"], target = \"c\"\n",
        "Output: \"f\"\n",
        "Explanation: The smallest character that is lexicographically greater than 'c' in letters is 'f'.\n",
        "Example 3:\n",
        "\n",
        "Input: letters = [\"x\",\"x\",\"y\",\"y\"], target = \"z\"\n",
        "Output: \"x\"\n",
        "Explanation: There are no characters in letters that is lexicographically greater than 'z' so we return letters[0]."
      ],
      "metadata": {
        "id": "WYw1kWJBVuOb"
      }
    },
    {
      "cell_type": "code",
      "source": [
        "%%writefile findsmall.cpp\n",
        "#include <iostream>\n",
        "#include <vector>\n",
        "\n",
        "using namespace std;\n",
        "\n",
        "class Solution {\n",
        "public:\n",
        "    char nextGreatestLetter(vector<char>& letters, char target) {\n",
        "        char small = '\\0';\n",
        "        int i;\n",
        "        for ( i = 0; i < letters.size(); i++) {\n",
        "            if(target<letters[i]){\n",
        "              small = letters[i];\n",
        "            }\n",
        "        }\n",
        "        if(small != '\\0'){\n",
        "          for ( i = 0; i < letters.size(); i++) {\n",
        "            if(small>letters[i] && letters[i]!= target && letters[i]>target){\n",
        "              small = letters[i];\n",
        "            }\n",
        "        }\n",
        "         return small;\n",
        "        }\n",
        "        else return letters[0];\n",
        "\n",
        "    }\n",
        "};\n",
        "\n",
        "int main() {\n",
        "    vector<char> letters = {'c', 'f', 'j' };\n",
        "    char target = 'd';\n",
        "\n",
        "    Solution solution;\n",
        "    char result = solution.nextGreatestLetter(letters, target);\n",
        "    if (result) {\n",
        "        cout <<  result << endl;\n",
        "    }\n",
        "    return 0;\n",
        "}\n"
      ],
      "metadata": {
        "colab": {
          "base_uri": "https://localhost:8080/"
        },
        "id": "riPkmJ78V_GR",
        "outputId": "9f96d9e3-c5da-4e74-d948-8edb3fea1b79"
      },
      "execution_count": null,
      "outputs": [
        {
          "output_type": "stream",
          "name": "stdout",
          "text": [
            "Overwriting findsmall.cpp\n"
          ]
        }
      ]
    },
    {
      "cell_type": "code",
      "source": [
        "! g++ findsmall.cpp -o findsmall"
      ],
      "metadata": {
        "id": "CH-VNQqkWDU0"
      },
      "execution_count": null,
      "outputs": []
    },
    {
      "cell_type": "code",
      "source": [
        "! ./findsmall"
      ],
      "metadata": {
        "colab": {
          "base_uri": "https://localhost:8080/"
        },
        "id": "q9vXX_ppWDnn",
        "outputId": "674e61f1-e344-4759-bdd1-861d61f99d10"
      },
      "execution_count": null,
      "outputs": [
        {
          "output_type": "stream",
          "name": "stdout",
          "text": [
            "f\n"
          ]
        }
      ]
    },
    {
      "cell_type": "markdown",
      "source": [
        "# *9. Palindrome Number*\n",
        "Given an integer x, return true if x is a\n",
        "palindrome\n",
        ", and false otherwise.\n",
        "\n",
        "\n",
        "\n",
        "Example 1:\n",
        "\n",
        "Input: x = 121\n",
        "Output: true\n",
        "Explanation: 121 reads as 121 from left to right and from right to left.\n",
        "Example 2:\n",
        "\n",
        "Input: x = -121\n",
        "Output: false\n",
        "Explanation: From left to right, it reads -121. From right to left, it becomes 121-. Therefore it is not a palindrome.\n",
        "Example 3:\n",
        "\n",
        "Input: x = 10\n",
        "Output: false\n",
        "Explanation: Reads 01 from right to left. Therefore it is not a palindrome."
      ],
      "metadata": {
        "id": "VDd23ueBmHcU"
      }
    },
    {
      "cell_type": "code",
      "source": [
        "%%writefile palindrome.cpp\n",
        "#include <iostream>\n",
        "using namespace std;\n",
        "\n",
        "class Solution {\n",
        "public:\n",
        "    bool isPalindrome(int x) {\n",
        "        if(x<0) return false;\n",
        "        else{\n",
        "              int y=x , rem;\n",
        "              long reverse=0;\n",
        "              while(x!=0){\n",
        "                rem=x%10;\n",
        "                x=x/10;\n",
        "                reverse=reverse*10+rem;\n",
        "              }\n",
        "              if (reverse==y) return true;\n",
        "              else return false;\n",
        "        }\n",
        "    }\n",
        "};\n",
        "int main(){\n",
        "    int x;\n",
        "    cout<<\"Enter a number: \";\n",
        "    cin>>x;\n",
        "    Solution solution;\n",
        "    int result= solution.isPalindrome(x);\n",
        "    if(result==1) cout<<\"True\\n\";\n",
        "    else cout<<\"False\\n\";\n",
        "    return 0;\n",
        "}\n"
      ],
      "metadata": {
        "colab": {
          "base_uri": "https://localhost:8080/"
        },
        "id": "R0sTM9zumKC-",
        "outputId": "aaf64bd3-0f7b-4f0b-af88-d860d2c3b2e6"
      },
      "execution_count": null,
      "outputs": [
        {
          "output_type": "stream",
          "name": "stdout",
          "text": [
            "Overwriting palindrome.cpp\n"
          ]
        }
      ]
    },
    {
      "cell_type": "code",
      "source": [
        "! g++ palindrome.cpp -o palindrome"
      ],
      "metadata": {
        "id": "mqqH44_bmXyz"
      },
      "execution_count": null,
      "outputs": []
    },
    {
      "cell_type": "code",
      "source": [
        "! ./palindrome"
      ],
      "metadata": {
        "colab": {
          "base_uri": "https://localhost:8080/"
        },
        "id": "nldyoVlNmX-Y",
        "outputId": "8dd0c6cb-1e29-4d8b-ce54-a9ed2c2be7bf"
      },
      "execution_count": null,
      "outputs": [
        {
          "output_type": "stream",
          "name": "stdout",
          "text": [
            "Enter a number: 125\n",
            "False\n"
          ]
        }
      ]
    },
    {
      "cell_type": "markdown",
      "source": [
        "# *1351. Count Negative Numbers in a Sorted Matrix*\n",
        "Given a m x n matrix grid which is sorted in non-increasing order both row-wise and column-wise, return the number of negative numbers in grid.\n",
        "\n",
        "\n",
        "\n",
        "Example 1:\n",
        "\n",
        "Input: grid = [[4,3,2,-1],[3,2,1,-1],[1,1,-1,-2],[-1,-1,-2,-3]]\n",
        "Output: 8\n",
        "Explanation: There are 8 negatives number in the matrix.\n",
        "Example 2:\n",
        "\n",
        "Input: grid = [[3,2],[1,0]]\n",
        "Output: 0\n",
        "\n",
        "\n",
        "Constraints:\n",
        "\n",
        "m == grid.length\n",
        "n == grid[i].length\n",
        "1 <= m, n <= 100\n",
        "-100 <= grid[i][j] <= 100\n"
      ],
      "metadata": {
        "id": "8KR2guHM9f_g"
      }
    },
    {
      "cell_type": "code",
      "source": [
        "%%writefile CountNegative.cpp\n",
        "#include <iostream>\n",
        "#include <vector>\n",
        "using namespace std;\n",
        "class Solution {\n",
        "public:\n",
        "    int countNegatives(vector<vector<int>>& grid) {\n",
        "        int x=0, y=grid[0].size()-1,count=0;\n",
        "        while(x<grid.size()&& y>=0){\n",
        "            if(grid[x][y]<0) count+=(grid.size()-x), y--;\n",
        "            else if(grid[x][y]>=0) x++;\n",
        "        }\n",
        "        return count;\n",
        "    }\n",
        "};\n",
        "\n",
        "int main(){\n",
        "\n",
        "    vector<vector<int>> grid ={{4,3,2,-1},{3,2,1,-1},{1,1,-1,-2},{-1,-1,-2,-3}};\n",
        "    Solution solution;\n",
        "    int result = solution.countNegatives(grid);\n",
        "    cout<<\"Output: \"<<result<<endl;\n",
        "}"
      ],
      "metadata": {
        "colab": {
          "base_uri": "https://localhost:8080/"
        },
        "id": "q1GcmUd39hZb",
        "outputId": "70e510cf-5231-444f-e82f-d8c6504d4aae"
      },
      "execution_count": null,
      "outputs": [
        {
          "output_type": "stream",
          "name": "stdout",
          "text": [
            "Overwriting CountNegative.cpp\n"
          ]
        }
      ]
    },
    {
      "cell_type": "code",
      "source": [
        "! g++ CountNegative.cpp -o CountNegative"
      ],
      "metadata": {
        "id": "hh0gyDi5-Lit"
      },
      "execution_count": null,
      "outputs": []
    },
    {
      "cell_type": "code",
      "source": [
        "! ./CountNegative"
      ],
      "metadata": {
        "colab": {
          "base_uri": "https://localhost:8080/"
        },
        "id": "kU93s1Jz-LlK",
        "outputId": "a136d4cd-f7eb-4950-a7d4-a27b080cc464"
      },
      "execution_count": null,
      "outputs": [
        {
          "output_type": "stream",
          "name": "stdout",
          "text": [
            "Output: 8\n"
          ]
        }
      ]
    },
    {
      "cell_type": "markdown",
      "source": [
        "# **[643. Maximum Average Subarray I](https://leetcode.com/problems/maximum-average-subarray-i/)**\n",
        "\n",
        "You are given an integer array nums consisting of n elements, and an integer k.\n",
        "\n",
        "Find a contiguous subarray whose length is equal to k that has the maximum average value and return this value. Any answer with a calculation error less than 10-5 will be accepted.\n",
        "\n",
        "\n",
        "\n",
        "Example 1:\n",
        "\n",
        "Input: nums = [1,12,-5,-6,50,3], k = 4\n",
        "Output: 12.75000\n",
        "Explanation: Maximum average is (12 - 5 - 6 + 50) / 4 = 51 / 4 = 12.75\n",
        "Example 2:\n",
        "\n",
        "Input: nums = [5], k = 1\n",
        "Output: 5.00000"
      ],
      "metadata": {
        "id": "QnLmK8zG49vl"
      }
    },
    {
      "cell_type": "code",
      "source": [
        "%%writefile maxAvg.cpp\n",
        "#include <iostream>\n",
        "#include <vector>\n",
        "#include <algorithm>\n",
        "\n",
        "using namespace std;\n",
        "\n",
        "class Solution {\n",
        "public:\n",
        "    double findMaxAverage(vector<int>& nums, int k) {\n",
        "        double sum = 0;\n",
        "        for (int i = 0; i < k; i++) {\n",
        "            sum += nums[i];\n",
        "        }\n",
        "\n",
        "        double maxSum = sum;\n",
        "        for (int i = k; i < nums.size(); i++) {\n",
        "            sum += nums[i] - nums[i - k];\n",
        "            maxSum = max(maxSum, sum);\n",
        "        }\n",
        "\n",
        "        return maxSum / k;\n",
        "    }\n",
        "};\n",
        "\n",
        "int main() {\n",
        "    vector<int> nums = {1, 12, -5, -6, 50, 3};  // Example input\n",
        "    int k = 4;\n",
        "    Solution solution;\n",
        "    double result = solution.findMaxAverage(nums, k);\n",
        "    cout << \"Output: \" << result << endl;\n",
        "\n",
        "    return 0;\n",
        "}\n"
      ],
      "metadata": {
        "id": "XwGrUvQQ57kz",
        "colab": {
          "base_uri": "https://localhost:8080/"
        },
        "outputId": "1660ed7e-5d3d-41d4-829a-7336cdc74428"
      },
      "execution_count": 45,
      "outputs": [
        {
          "output_type": "stream",
          "name": "stdout",
          "text": [
            "Overwriting maxAvg.cpp\n"
          ]
        }
      ]
    },
    {
      "cell_type": "code",
      "source": [
        "! g++ maxAvg.cpp -o maxAvg"
      ],
      "metadata": {
        "id": "wVNUxSsB57z8"
      },
      "execution_count": 43,
      "outputs": []
    },
    {
      "cell_type": "code",
      "source": [
        "! ./maxAvg"
      ],
      "metadata": {
        "id": "AQHzluue576W",
        "colab": {
          "base_uri": "https://localhost:8080/"
        },
        "outputId": "67176246-e278-4cd5-f3a0-1e5c12c8e87d"
      },
      "execution_count": 44,
      "outputs": [
        {
          "output_type": "stream",
          "name": "stdout",
          "text": [
            " Before Sum: 2\n",
            "For: 4 nums[i]= 50 nums[i-k]= 1\n",
            "Sum: 51\n",
            " Before Sum: 51\n",
            "For: 5 nums[i]= 3 nums[i-k]= 12\n",
            "Sum: 42\n",
            "Output: 12.75\n"
          ]
        }
      ]
    }
  ]
}